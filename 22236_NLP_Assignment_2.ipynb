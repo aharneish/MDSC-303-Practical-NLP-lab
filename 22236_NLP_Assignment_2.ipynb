{
  "cells": [
    {
      "cell_type": "code",
      "execution_count": 3,
      "id": "054dad33",
      "metadata": {
        "id": "054dad33"
      },
      "outputs": [],
      "source": [
        "import math\n",
        "import numpy as np\n",
        "import matplotlib.pyplot as plt\n",
        "%matplotlib inline"
      ]
    },
    {
      "cell_type": "code",
      "execution_count": 5,
      "id": "581df095",
      "metadata": {
        "id": "581df095"
      },
      "outputs": [],
      "source": [
        "from graphviz import Digraph\n",
        "\n",
        "def trace(root):\n",
        "    nodes, edges= set(), set()\n",
        "    def build(v):\n",
        "        if v not in nodes:\n",
        "            nodes.add(v)\n",
        "            for child in v._prev:\n",
        "                edges.add((child,v))\n",
        "                build(child)\n",
        "    build(root)\n",
        "    return nodes, edges\n",
        "\n",
        "def draw_dot(root):\n",
        "    dot= Digraph(format='svg', graph_attr={'rankdir':'LR'})\n",
        "    nodes, edges= trace(root)\n",
        "    for n in nodes:\n",
        "        uid= str(id(n))\n",
        "        dot.node(name= uid, label= \"{data %.4f}\" % (n.data, ), shape='record')\n",
        "        if n._op:\n",
        "            dot.node(name= uid + n._op, label= n._op)\n",
        "            dot.edge(uid+n._op, uid)\n",
        "    for n1, n2 in edges:\n",
        "        dot.edge(str(id(n1)), str(id(n2)) + n2._op)\n",
        "    return dot"
      ]
    },
    {
      "cell_type": "code",
      "execution_count": 7,
      "id": "577ff9c7",
      "metadata": {
        "id": "577ff9c7"
      },
      "outputs": [],
      "source": [
        "def draw_dot(root):\n",
        "    dot= Digraph(format='svg', graph_attr={'rankdir':'LR'})\n",
        "    nodes, edges= trace(root)\n",
        "    for n in nodes:\n",
        "        uid= str(id(n))\n",
        "        dot.node(name= uid, label= \"{%s | data %.4f | grad %.4f}\" % (n.label, n.data, n.grad), shape='record')\n",
        "        if n._op:\n",
        "            dot.node(name= uid + n._op, label= n._op)\n",
        "            dot.edge(uid+n._op, uid)\n",
        "    for n1, n2 in edges:\n",
        "        dot.edge(str(id(n1)), str(id(n2)) + n2._op)\n",
        "    return dot"
      ]
    },
    {
      "cell_type": "code",
      "execution_count": 79,
      "id": "aa661827",
      "metadata": {
        "id": "aa661827"
      },
      "outputs": [],
      "source": [
        "class Value:\n",
        "\n",
        "    def __init__(self, data, _children=(), _op='', label=''):\n",
        "        self.data= data\n",
        "        self.grad= 0.0\n",
        "        self._prev= set(_children)\n",
        "        self._op= _op\n",
        "        self.label= label\n",
        "        self._backward= lambda: None\n",
        "\n",
        "    def __repr__(self):\n",
        "        return f\"Value(data= {self.data})\"\n",
        "\n",
        "    def __add__(self, other):\n",
        "        if not isinstance(other,Value):\n",
        "          other=Value(other)\n",
        "        out= Value(self.data + other.data,(self,other),'+')\n",
        "        def _backward():\n",
        "            self.grad+= out.grad * 1.0\n",
        "            other.grad+= out.grad * 1.0\n",
        "        out._backward= _backward\n",
        "        return out\n",
        "    def __radd__(other,self):\n",
        "      return self.__add__(other)\n",
        "\n",
        "    def __mul__(self, other):\n",
        "        if not isinstance(other,Value):\n",
        "            other=Value(other)\n",
        "        out= Value(self.data * other.data,(self,other),'*')\n",
        "        def _backward():\n",
        "            self.grad+= out.grad * other.data\n",
        "            other.grad+= out.grad * self.data\n",
        "        out._backward= _backward\n",
        "        return out\n",
        "\n",
        "    def __rmul__(other,self):\n",
        "      return self.__mul__(other)\n",
        "\n",
        "    def __sub__(self,other):\n",
        "      if not isinstance(other,Value):\n",
        "            other=Value(other)\n",
        "      out= Value(self.data - other.data,(self,other),'-')\n",
        "      def _backward():\n",
        "            self.grad+= out.grad * 1.0\n",
        "            other.grad+= out.grad * -1.0\n",
        "      out._backward= _backward\n",
        "      return out\n",
        "\n",
        "    def __rsub__(other,self):\n",
        "      return self.__sub__(other)\n",
        "\n",
        "    def __pow__(self, other):\n",
        "        if not isinstance(other, Value):\n",
        "            n = Value(n)\n",
        "        out = Value(self.data ** other.data)\n",
        "        def _backward():\n",
        "            self.grad += out.grad * (other.data * self.data**(other.data-1))\n",
        "        out._backward = _backward\n",
        "        return out\n",
        "\n",
        "\n",
        "    def __truediv__(self, other):\n",
        "        if other.data != 0:\n",
        "            out = Value(self.data / other.data, (self, other), '/')\n",
        "            def _backward():\n",
        "                self.grad += out.grad * (1.0 / other.data)\n",
        "                other.grad += out.grad * (-self.data / (other.data**2))\n",
        "            out._backward = _backward\n",
        "            return out\n",
        "        else:\n",
        "            print(\"Division by zero not possible\")\n",
        "            return None\n",
        "\n",
        "\n",
        "    def tanh(self):\n",
        "        x = self.data\n",
        "        e = Value(math.e)\n",
        "        t = (e**Value(2*x) - 1) / (e**Value(2*x) + 1)\n",
        "        out = Value(t.data, (self,), 'tanh')\n",
        "        def _backward():\n",
        "            self.grad = out.grad * (1 - t.data**2)\n",
        "        out._backward = _backward\n",
        "        return out\n",
        "    def relu(self):\n",
        "        return Value(max(0, self.data), (self,), 'relu')\n",
        "\n",
        "    def backward(self):\n",
        "        self.grad=1\n",
        "        for prev in self._prev:\n",
        "            prev.backward()\n",
        "            prev=prev._backward()"
      ]
    },
    {
      "cell_type": "code",
      "source": [
        "x1= Value(2.0, label='x1')\n",
        "x2= Value(0.0, label='x2')\n",
        "w1= Value(-3.0, label='w1')\n",
        "w2= Value(1.0, label='w2')\n",
        "b= Value(6.8813735870195432, label='b')\n",
        "b1=2\n",
        "x1w1= x1 * w1; x1w1.label= 'x1 * w1'\n",
        "x2w2= x2 * w2; x2w2.label= 'x2 * w2'\n",
        "x1w1x2w2 = x1w1 + x2w2; x1w1x2w2.label= 'x1*w1 + x2*w2'\n",
        "n= x1w1x2w2 + b; n.label= 'n'\n",
        "o= n.tanh(); o.label= 'o';"
      ],
      "metadata": {
        "id": "_vGQV2jkmeyZ"
      },
      "id": "_vGQV2jkmeyZ",
      "execution_count": 80,
      "outputs": []
    },
    {
      "cell_type": "code",
      "source": [
        "o"
      ],
      "metadata": {
        "colab": {
          "base_uri": "https://localhost:8080/"
        },
        "id": "c1c--u6JNJqJ",
        "outputId": "4659aebe-9793-4fee-ee2b-b003ffd4eb5d"
      },
      "id": "c1c--u6JNJqJ",
      "execution_count": 81,
      "outputs": [
        {
          "output_type": "execute_result",
          "data": {
            "text/plain": [
              "Value(data= 0.7071067811865476)"
            ]
          },
          "metadata": {},
          "execution_count": 81
        }
      ]
    },
    {
      "cell_type": "code",
      "source": [
        "draw_dot(o)"
      ],
      "metadata": {
        "colab": {
          "base_uri": "https://localhost:8080/",
          "height": 321
        },
        "id": "0_wlDamvqoQx",
        "outputId": "49f08aa2-9a75-4dec-8256-7fefcf40ed08"
      },
      "id": "0_wlDamvqoQx",
      "execution_count": 82,
      "outputs": [
        {
          "output_type": "execute_result",
          "data": {
            "image/svg+xml": "<?xml version=\"1.0\" encoding=\"UTF-8\" standalone=\"no\"?>\n<!DOCTYPE svg PUBLIC \"-//W3C//DTD SVG 1.1//EN\"\n \"http://www.w3.org/Graphics/SVG/1.1/DTD/svg11.dtd\">\n<!-- Generated by graphviz version 2.43.0 (0)\n -->\n<!-- Title: %3 Pages: 1 -->\n<svg width=\"1583pt\" height=\"210pt\"\n viewBox=\"0.00 0.00 1583.00 210.00\" xmlns=\"http://www.w3.org/2000/svg\" xmlns:xlink=\"http://www.w3.org/1999/xlink\">\n<g id=\"graph0\" class=\"graph\" transform=\"scale(1 1) rotate(0) translate(4 206)\">\n<title>%3</title>\n<polygon fill=\"white\" stroke=\"transparent\" points=\"-4,4 -4,-206 1579,-206 1579,4 -4,4\"/>\n<!-- 136211690318352 -->\n<g id=\"node1\" class=\"node\">\n<title>136211690318352</title>\n<polygon fill=\"none\" stroke=\"black\" points=\"328.5,-55.5 328.5,-91.5 551.5,-91.5 551.5,-55.5 328.5,-55.5\"/>\n<text text-anchor=\"middle\" x=\"359\" y=\"-69.8\" font-family=\"Times,serif\" font-size=\"14.00\">x2 * w2</text>\n<polyline fill=\"none\" stroke=\"black\" points=\"389.5,-55.5 389.5,-91.5 \"/>\n<text text-anchor=\"middle\" x=\"429.5\" y=\"-69.8\" font-family=\"Times,serif\" font-size=\"14.00\">data 0.0000</text>\n<polyline fill=\"none\" stroke=\"black\" points=\"469.5,-55.5 469.5,-91.5 \"/>\n<text text-anchor=\"middle\" x=\"510.5\" y=\"-69.8\" font-family=\"Times,serif\" font-size=\"14.00\">grad 0.0000</text>\n</g>\n<!-- 136211690317920+ -->\n<g id=\"node6\" class=\"node\">\n<title>136211690317920+</title>\n<ellipse fill=\"none\" stroke=\"black\" cx=\"617\" cy=\"-100.5\" rx=\"27\" ry=\"18\"/>\n<text text-anchor=\"middle\" x=\"617\" y=\"-96.8\" font-family=\"Times,serif\" font-size=\"14.00\">+</text>\n</g>\n<!-- 136211690318352&#45;&gt;136211690317920+ -->\n<g id=\"edge11\" class=\"edge\">\n<title>136211690318352&#45;&gt;136211690317920+</title>\n<path fill=\"none\" stroke=\"black\" d=\"M551.83,-90.6C562.05,-92.18 571.82,-93.68 580.51,-95.02\"/>\n<polygon fill=\"black\" stroke=\"black\" points=\"580.12,-98.51 590.54,-96.57 581.19,-91.59 580.12,-98.51\"/>\n</g>\n<!-- 136211690318352* -->\n<g id=\"node2\" class=\"node\">\n<title>136211690318352*</title>\n<ellipse fill=\"none\" stroke=\"black\" cx=\"263\" cy=\"-73.5\" rx=\"27\" ry=\"18\"/>\n<text text-anchor=\"middle\" x=\"263\" y=\"-69.8\" font-family=\"Times,serif\" font-size=\"14.00\">*</text>\n</g>\n<!-- 136211690318352*&#45;&gt;136211690318352 -->\n<g id=\"edge1\" class=\"edge\">\n<title>136211690318352*&#45;&gt;136211690318352</title>\n<path fill=\"none\" stroke=\"black\" d=\"M290.2,-73.5C298.36,-73.5 307.96,-73.5 318.28,-73.5\"/>\n<polygon fill=\"black\" stroke=\"black\" points=\"318.37,-77 328.37,-73.5 318.37,-70 318.37,-77\"/>\n</g>\n<!-- 136211690316816 -->\n<g id=\"node3\" class=\"node\">\n<title>136211690316816</title>\n<polygon fill=\"none\" stroke=\"black\" points=\"4,-55.5 4,-91.5 196,-91.5 196,-55.5 4,-55.5\"/>\n<text text-anchor=\"middle\" x=\"19\" y=\"-69.8\" font-family=\"Times,serif\" font-size=\"14.00\">x2</text>\n<polyline fill=\"none\" stroke=\"black\" points=\"34,-55.5 34,-91.5 \"/>\n<text text-anchor=\"middle\" x=\"74\" y=\"-69.8\" font-family=\"Times,serif\" font-size=\"14.00\">data 0.0000</text>\n<polyline fill=\"none\" stroke=\"black\" points=\"114,-55.5 114,-91.5 \"/>\n<text text-anchor=\"middle\" x=\"155\" y=\"-69.8\" font-family=\"Times,serif\" font-size=\"14.00\">grad 0.0000</text>\n</g>\n<!-- 136211690316816&#45;&gt;136211690318352* -->\n<g id=\"edge14\" class=\"edge\">\n<title>136211690316816&#45;&gt;136211690318352*</title>\n<path fill=\"none\" stroke=\"black\" d=\"M196.05,-73.5C206.52,-73.5 216.65,-73.5 225.71,-73.5\"/>\n<polygon fill=\"black\" stroke=\"black\" points=\"225.79,-77 235.79,-73.5 225.79,-70 225.79,-77\"/>\n</g>\n<!-- 136211690316864 -->\n<g id=\"node4\" class=\"node\">\n<title>136211690316864</title>\n<polygon fill=\"none\" stroke=\"black\" points=\"724,-137.5 724,-173.5 909,-173.5 909,-137.5 724,-137.5\"/>\n<text text-anchor=\"middle\" x=\"735.5\" y=\"-151.8\" font-family=\"Times,serif\" font-size=\"14.00\">b</text>\n<polyline fill=\"none\" stroke=\"black\" points=\"747,-137.5 747,-173.5 \"/>\n<text text-anchor=\"middle\" x=\"787\" y=\"-151.8\" font-family=\"Times,serif\" font-size=\"14.00\">data 6.8814</text>\n<polyline fill=\"none\" stroke=\"black\" points=\"827,-137.5 827,-173.5 \"/>\n<text text-anchor=\"middle\" x=\"868\" y=\"-151.8\" font-family=\"Times,serif\" font-size=\"14.00\">grad 0.0000</text>\n</g>\n<!-- 136211690314128+ -->\n<g id=\"node10\" class=\"node\">\n<title>136211690314128+</title>\n<ellipse fill=\"none\" stroke=\"black\" cx=\"1016\" cy=\"-127.5\" rx=\"27\" ry=\"18\"/>\n<text text-anchor=\"middle\" x=\"1016\" y=\"-123.8\" font-family=\"Times,serif\" font-size=\"14.00\">+</text>\n</g>\n<!-- 136211690316864&#45;&gt;136211690314128+ -->\n<g id=\"edge8\" class=\"edge\">\n<title>136211690316864&#45;&gt;136211690314128+</title>\n<path fill=\"none\" stroke=\"black\" d=\"M909.02,-142.52C934,-138.98 959.59,-135.36 979.37,-132.55\"/>\n<polygon fill=\"black\" stroke=\"black\" points=\"980.03,-135.99 989.43,-131.12 979.04,-129.06 980.03,-135.99\"/>\n</g>\n<!-- 136211690317920 -->\n<g id=\"node5\" class=\"node\">\n<title>136211690317920</title>\n<polygon fill=\"none\" stroke=\"black\" points=\"680,-82.5 680,-118.5 953,-118.5 953,-82.5 680,-82.5\"/>\n<text text-anchor=\"middle\" x=\"733\" y=\"-96.8\" font-family=\"Times,serif\" font-size=\"14.00\">x1*w1 + x2*w2</text>\n<polyline fill=\"none\" stroke=\"black\" points=\"786,-82.5 786,-118.5 \"/>\n<text text-anchor=\"middle\" x=\"828.5\" y=\"-96.8\" font-family=\"Times,serif\" font-size=\"14.00\">data &#45;6.0000</text>\n<polyline fill=\"none\" stroke=\"black\" points=\"871,-82.5 871,-118.5 \"/>\n<text text-anchor=\"middle\" x=\"912\" y=\"-96.8\" font-family=\"Times,serif\" font-size=\"14.00\">grad 0.0000</text>\n</g>\n<!-- 136211690317920&#45;&gt;136211690314128+ -->\n<g id=\"edge9\" class=\"edge\">\n<title>136211690317920&#45;&gt;136211690314128+</title>\n<path fill=\"none\" stroke=\"black\" d=\"M949.24,-118.51C960.12,-120 970.4,-121.4 979.45,-122.64\"/>\n<polygon fill=\"black\" stroke=\"black\" points=\"979.11,-126.13 989.49,-124.01 980.05,-119.19 979.11,-126.13\"/>\n</g>\n<!-- 136211690317920+&#45;&gt;136211690317920 -->\n<g id=\"edge2\" class=\"edge\">\n<title>136211690317920+&#45;&gt;136211690317920</title>\n<path fill=\"none\" stroke=\"black\" d=\"M644.23,-100.5C651.7,-100.5 660.41,-100.5 669.87,-100.5\"/>\n<polygon fill=\"black\" stroke=\"black\" points=\"669.98,-104 679.98,-100.5 669.98,-97 669.98,-104\"/>\n</g>\n<!-- 136211690319984 -->\n<g id=\"node7\" class=\"node\">\n<title>136211690319984</title>\n<polygon fill=\"none\" stroke=\"black\" points=\"326,-110.5 326,-146.5 554,-146.5 554,-110.5 326,-110.5\"/>\n<text text-anchor=\"middle\" x=\"356.5\" y=\"-124.8\" font-family=\"Times,serif\" font-size=\"14.00\">x1 * w1</text>\n<polyline fill=\"none\" stroke=\"black\" points=\"387,-110.5 387,-146.5 \"/>\n<text text-anchor=\"middle\" x=\"429.5\" y=\"-124.8\" font-family=\"Times,serif\" font-size=\"14.00\">data &#45;6.0000</text>\n<polyline fill=\"none\" stroke=\"black\" points=\"472,-110.5 472,-146.5 \"/>\n<text text-anchor=\"middle\" x=\"513\" y=\"-124.8\" font-family=\"Times,serif\" font-size=\"14.00\">grad 0.0000</text>\n</g>\n<!-- 136211690319984&#45;&gt;136211690317920+ -->\n<g id=\"edge13\" class=\"edge\">\n<title>136211690319984&#45;&gt;136211690317920+</title>\n<path fill=\"none\" stroke=\"black\" d=\"M553.81,-110.45C563.28,-108.93 572.32,-107.49 580.43,-106.19\"/>\n<polygon fill=\"black\" stroke=\"black\" points=\"581.19,-109.61 590.51,-104.58 580.08,-102.7 581.19,-109.61\"/>\n</g>\n<!-- 136211690319984* -->\n<g id=\"node8\" class=\"node\">\n<title>136211690319984*</title>\n<ellipse fill=\"none\" stroke=\"black\" cx=\"263\" cy=\"-128.5\" rx=\"27\" ry=\"18\"/>\n<text text-anchor=\"middle\" x=\"263\" y=\"-124.8\" font-family=\"Times,serif\" font-size=\"14.00\">*</text>\n</g>\n<!-- 136211690319984*&#45;&gt;136211690319984 -->\n<g id=\"edge3\" class=\"edge\">\n<title>136211690319984*&#45;&gt;136211690319984</title>\n<path fill=\"none\" stroke=\"black\" d=\"M290.2,-128.5C297.62,-128.5 306.23,-128.5 315.48,-128.5\"/>\n<polygon fill=\"black\" stroke=\"black\" points=\"315.76,-132 325.76,-128.5 315.76,-125 315.76,-132\"/>\n</g>\n<!-- 136211690314128 -->\n<g id=\"node9\" class=\"node\">\n<title>136211690314128</title>\n<polygon fill=\"none\" stroke=\"black\" points=\"1079,-109.5 1079,-145.5 1264,-145.5 1264,-109.5 1079,-109.5\"/>\n<text text-anchor=\"middle\" x=\"1090.5\" y=\"-123.8\" font-family=\"Times,serif\" font-size=\"14.00\">n</text>\n<polyline fill=\"none\" stroke=\"black\" points=\"1102,-109.5 1102,-145.5 \"/>\n<text text-anchor=\"middle\" x=\"1142\" y=\"-123.8\" font-family=\"Times,serif\" font-size=\"14.00\">data 0.8814</text>\n<polyline fill=\"none\" stroke=\"black\" points=\"1182,-109.5 1182,-145.5 \"/>\n<text text-anchor=\"middle\" x=\"1223\" y=\"-123.8\" font-family=\"Times,serif\" font-size=\"14.00\">grad 0.0000</text>\n</g>\n<!-- 136211690320272tanh -->\n<g id=\"node15\" class=\"node\">\n<title>136211690320272tanh</title>\n<ellipse fill=\"none\" stroke=\"black\" cx=\"1327\" cy=\"-127.5\" rx=\"27\" ry=\"18\"/>\n<text text-anchor=\"middle\" x=\"1327\" y=\"-123.8\" font-family=\"Times,serif\" font-size=\"14.00\">tanh</text>\n</g>\n<!-- 136211690314128&#45;&gt;136211690320272tanh -->\n<g id=\"edge12\" class=\"edge\">\n<title>136211690314128&#45;&gt;136211690320272tanh</title>\n<path fill=\"none\" stroke=\"black\" d=\"M1264.01,-127.5C1273.01,-127.5 1281.74,-127.5 1289.66,-127.5\"/>\n<polygon fill=\"black\" stroke=\"black\" points=\"1289.91,-131 1299.91,-127.5 1289.91,-124 1289.91,-131\"/>\n</g>\n<!-- 136211690314128+&#45;&gt;136211690314128 -->\n<g id=\"edge4\" class=\"edge\">\n<title>136211690314128+&#45;&gt;136211690314128</title>\n<path fill=\"none\" stroke=\"black\" d=\"M1043.04,-127.5C1050.58,-127.5 1059.3,-127.5 1068.57,-127.5\"/>\n<polygon fill=\"black\" stroke=\"black\" points=\"1068.81,-131 1078.81,-127.5 1068.81,-124 1068.81,-131\"/>\n</g>\n<!-- 136211690316480 -->\n<g id=\"node11\" class=\"node\">\n<title>136211690316480</title>\n<polygon fill=\"none\" stroke=\"black\" points=\"4,-165.5 4,-201.5 196,-201.5 196,-165.5 4,-165.5\"/>\n<text text-anchor=\"middle\" x=\"19\" y=\"-179.8\" font-family=\"Times,serif\" font-size=\"14.00\">x1</text>\n<polyline fill=\"none\" stroke=\"black\" points=\"34,-165.5 34,-201.5 \"/>\n<text text-anchor=\"middle\" x=\"74\" y=\"-179.8\" font-family=\"Times,serif\" font-size=\"14.00\">data 2.0000</text>\n<polyline fill=\"none\" stroke=\"black\" points=\"114,-165.5 114,-201.5 \"/>\n<text text-anchor=\"middle\" x=\"155\" y=\"-179.8\" font-family=\"Times,serif\" font-size=\"14.00\">grad 0.0000</text>\n</g>\n<!-- 136211690316480&#45;&gt;136211690319984* -->\n<g id=\"edge10\" class=\"edge\">\n<title>136211690316480&#45;&gt;136211690319984*</title>\n<path fill=\"none\" stroke=\"black\" d=\"M172.53,-165.44C181.84,-162.67 191.2,-159.67 200,-156.5 210.53,-152.71 221.75,-147.9 231.72,-143.33\"/>\n<polygon fill=\"black\" stroke=\"black\" points=\"233.25,-146.48 240.82,-139.07 230.28,-140.14 233.25,-146.48\"/>\n</g>\n<!-- 136211690316528 -->\n<g id=\"node12\" class=\"node\">\n<title>136211690316528</title>\n<polygon fill=\"none\" stroke=\"black\" points=\"2.5,-0.5 2.5,-36.5 197.5,-36.5 197.5,-0.5 2.5,-0.5\"/>\n<text text-anchor=\"middle\" x=\"19\" y=\"-14.8\" font-family=\"Times,serif\" font-size=\"14.00\">w2</text>\n<polyline fill=\"none\" stroke=\"black\" points=\"35.5,-0.5 35.5,-36.5 \"/>\n<text text-anchor=\"middle\" x=\"75.5\" y=\"-14.8\" font-family=\"Times,serif\" font-size=\"14.00\">data 1.0000</text>\n<polyline fill=\"none\" stroke=\"black\" points=\"115.5,-0.5 115.5,-36.5 \"/>\n<text text-anchor=\"middle\" x=\"156.5\" y=\"-14.8\" font-family=\"Times,serif\" font-size=\"14.00\">grad 0.0000</text>\n</g>\n<!-- 136211690316528&#45;&gt;136211690318352* -->\n<g id=\"edge6\" class=\"edge\">\n<title>136211690316528&#45;&gt;136211690318352*</title>\n<path fill=\"none\" stroke=\"black\" d=\"M169.28,-36.5C179.65,-39.61 190.16,-42.98 200,-46.5 210.28,-50.17 221.28,-54.74 231.11,-59.07\"/>\n<polygon fill=\"black\" stroke=\"black\" points=\"229.93,-62.37 240.48,-63.27 232.79,-55.99 229.93,-62.37\"/>\n</g>\n<!-- 136211690316624 -->\n<g id=\"node13\" class=\"node\">\n<title>136211690316624</title>\n<polygon fill=\"none\" stroke=\"black\" points=\"0,-110.5 0,-146.5 200,-146.5 200,-110.5 0,-110.5\"/>\n<text text-anchor=\"middle\" x=\"16.5\" y=\"-124.8\" font-family=\"Times,serif\" font-size=\"14.00\">w1</text>\n<polyline fill=\"none\" stroke=\"black\" points=\"33,-110.5 33,-146.5 \"/>\n<text text-anchor=\"middle\" x=\"75.5\" y=\"-124.8\" font-family=\"Times,serif\" font-size=\"14.00\">data &#45;3.0000</text>\n<polyline fill=\"none\" stroke=\"black\" points=\"118,-110.5 118,-146.5 \"/>\n<text text-anchor=\"middle\" x=\"159\" y=\"-124.8\" font-family=\"Times,serif\" font-size=\"14.00\">grad 0.0000</text>\n</g>\n<!-- 136211690316624&#45;&gt;136211690319984* -->\n<g id=\"edge7\" class=\"edge\">\n<title>136211690316624&#45;&gt;136211690319984*</title>\n<path fill=\"none\" stroke=\"black\" d=\"M200.21,-128.5C209.2,-128.5 217.86,-128.5 225.7,-128.5\"/>\n<polygon fill=\"black\" stroke=\"black\" points=\"225.85,-132 235.85,-128.5 225.85,-125 225.85,-132\"/>\n</g>\n<!-- 136211690320272 -->\n<g id=\"node14\" class=\"node\">\n<title>136211690320272</title>\n<polygon fill=\"none\" stroke=\"black\" points=\"1390,-109.5 1390,-145.5 1575,-145.5 1575,-109.5 1390,-109.5\"/>\n<text text-anchor=\"middle\" x=\"1401.5\" y=\"-123.8\" font-family=\"Times,serif\" font-size=\"14.00\">o</text>\n<polyline fill=\"none\" stroke=\"black\" points=\"1413,-109.5 1413,-145.5 \"/>\n<text text-anchor=\"middle\" x=\"1453\" y=\"-123.8\" font-family=\"Times,serif\" font-size=\"14.00\">data 0.7071</text>\n<polyline fill=\"none\" stroke=\"black\" points=\"1493,-109.5 1493,-145.5 \"/>\n<text text-anchor=\"middle\" x=\"1534\" y=\"-123.8\" font-family=\"Times,serif\" font-size=\"14.00\">grad 0.0000</text>\n</g>\n<!-- 136211690320272tanh&#45;&gt;136211690320272 -->\n<g id=\"edge5\" class=\"edge\">\n<title>136211690320272tanh&#45;&gt;136211690320272</title>\n<path fill=\"none\" stroke=\"black\" d=\"M1354.04,-127.5C1361.58,-127.5 1370.3,-127.5 1379.57,-127.5\"/>\n<polygon fill=\"black\" stroke=\"black\" points=\"1379.81,-131 1389.81,-127.5 1379.81,-124 1379.81,-131\"/>\n</g>\n</g>\n</svg>\n",
            "text/plain": [
              "<graphviz.graphs.Digraph at 0x7be2416a5630>"
            ]
          },
          "metadata": {},
          "execution_count": 82
        }
      ]
    },
    {
      "cell_type": "code",
      "source": [
        "o.backward()\n",
        "draw_dot(o)"
      ],
      "metadata": {
        "colab": {
          "base_uri": "https://localhost:8080/",
          "height": 321
        },
        "id": "rmjISnDaqp1I",
        "outputId": "40f1753c-afa6-474d-b1a6-a9a8fe3d7a30"
      },
      "id": "rmjISnDaqp1I",
      "execution_count": 83,
      "outputs": [
        {
          "output_type": "execute_result",
          "data": {
            "image/svg+xml": "<?xml version=\"1.0\" encoding=\"UTF-8\" standalone=\"no\"?>\n<!DOCTYPE svg PUBLIC \"-//W3C//DTD SVG 1.1//EN\"\n \"http://www.w3.org/Graphics/SVG/1.1/DTD/svg11.dtd\">\n<!-- Generated by graphviz version 2.43.0 (0)\n -->\n<!-- Title: %3 Pages: 1 -->\n<svg width=\"1583pt\" height=\"210pt\"\n viewBox=\"0.00 0.00 1583.00 210.00\" xmlns=\"http://www.w3.org/2000/svg\" xmlns:xlink=\"http://www.w3.org/1999/xlink\">\n<g id=\"graph0\" class=\"graph\" transform=\"scale(1 1) rotate(0) translate(4 206)\">\n<title>%3</title>\n<polygon fill=\"white\" stroke=\"transparent\" points=\"-4,4 -4,-206 1579,-206 1579,4 -4,4\"/>\n<!-- 136211690318352 -->\n<g id=\"node1\" class=\"node\">\n<title>136211690318352</title>\n<polygon fill=\"none\" stroke=\"black\" points=\"328.5,-55.5 328.5,-91.5 551.5,-91.5 551.5,-55.5 328.5,-55.5\"/>\n<text text-anchor=\"middle\" x=\"359\" y=\"-69.8\" font-family=\"Times,serif\" font-size=\"14.00\">x2 * w2</text>\n<polyline fill=\"none\" stroke=\"black\" points=\"389.5,-55.5 389.5,-91.5 \"/>\n<text text-anchor=\"middle\" x=\"429.5\" y=\"-69.8\" font-family=\"Times,serif\" font-size=\"14.00\">data 0.0000</text>\n<polyline fill=\"none\" stroke=\"black\" points=\"469.5,-55.5 469.5,-91.5 \"/>\n<text text-anchor=\"middle\" x=\"510.5\" y=\"-69.8\" font-family=\"Times,serif\" font-size=\"14.00\">grad 2.0000</text>\n</g>\n<!-- 136211690317920+ -->\n<g id=\"node6\" class=\"node\">\n<title>136211690317920+</title>\n<ellipse fill=\"none\" stroke=\"black\" cx=\"617\" cy=\"-100.5\" rx=\"27\" ry=\"18\"/>\n<text text-anchor=\"middle\" x=\"617\" y=\"-96.8\" font-family=\"Times,serif\" font-size=\"14.00\">+</text>\n</g>\n<!-- 136211690318352&#45;&gt;136211690317920+ -->\n<g id=\"edge11\" class=\"edge\">\n<title>136211690318352&#45;&gt;136211690317920+</title>\n<path fill=\"none\" stroke=\"black\" d=\"M551.83,-90.6C562.05,-92.18 571.82,-93.68 580.51,-95.02\"/>\n<polygon fill=\"black\" stroke=\"black\" points=\"580.12,-98.51 590.54,-96.57 581.19,-91.59 580.12,-98.51\"/>\n</g>\n<!-- 136211690318352* -->\n<g id=\"node2\" class=\"node\">\n<title>136211690318352*</title>\n<ellipse fill=\"none\" stroke=\"black\" cx=\"263\" cy=\"-73.5\" rx=\"27\" ry=\"18\"/>\n<text text-anchor=\"middle\" x=\"263\" y=\"-69.8\" font-family=\"Times,serif\" font-size=\"14.00\">*</text>\n</g>\n<!-- 136211690318352*&#45;&gt;136211690318352 -->\n<g id=\"edge1\" class=\"edge\">\n<title>136211690318352*&#45;&gt;136211690318352</title>\n<path fill=\"none\" stroke=\"black\" d=\"M290.2,-73.5C298.36,-73.5 307.96,-73.5 318.28,-73.5\"/>\n<polygon fill=\"black\" stroke=\"black\" points=\"318.37,-77 328.37,-73.5 318.37,-70 318.37,-77\"/>\n</g>\n<!-- 136211690316816 -->\n<g id=\"node3\" class=\"node\">\n<title>136211690316816</title>\n<polygon fill=\"none\" stroke=\"black\" points=\"4,-55.5 4,-91.5 196,-91.5 196,-55.5 4,-55.5\"/>\n<text text-anchor=\"middle\" x=\"19\" y=\"-69.8\" font-family=\"Times,serif\" font-size=\"14.00\">x2</text>\n<polyline fill=\"none\" stroke=\"black\" points=\"34,-55.5 34,-91.5 \"/>\n<text text-anchor=\"middle\" x=\"74\" y=\"-69.8\" font-family=\"Times,serif\" font-size=\"14.00\">data 0.0000</text>\n<polyline fill=\"none\" stroke=\"black\" points=\"114,-55.5 114,-91.5 \"/>\n<text text-anchor=\"middle\" x=\"155\" y=\"-69.8\" font-family=\"Times,serif\" font-size=\"14.00\">grad 2.0000</text>\n</g>\n<!-- 136211690316816&#45;&gt;136211690318352* -->\n<g id=\"edge14\" class=\"edge\">\n<title>136211690316816&#45;&gt;136211690318352*</title>\n<path fill=\"none\" stroke=\"black\" d=\"M196.05,-73.5C206.52,-73.5 216.65,-73.5 225.71,-73.5\"/>\n<polygon fill=\"black\" stroke=\"black\" points=\"225.79,-77 235.79,-73.5 225.79,-70 225.79,-77\"/>\n</g>\n<!-- 136211690316864 -->\n<g id=\"node4\" class=\"node\">\n<title>136211690316864</title>\n<polygon fill=\"none\" stroke=\"black\" points=\"724,-137.5 724,-173.5 909,-173.5 909,-137.5 724,-137.5\"/>\n<text text-anchor=\"middle\" x=\"735.5\" y=\"-151.8\" font-family=\"Times,serif\" font-size=\"14.00\">b</text>\n<polyline fill=\"none\" stroke=\"black\" points=\"747,-137.5 747,-173.5 \"/>\n<text text-anchor=\"middle\" x=\"787\" y=\"-151.8\" font-family=\"Times,serif\" font-size=\"14.00\">data 6.8814</text>\n<polyline fill=\"none\" stroke=\"black\" points=\"827,-137.5 827,-173.5 \"/>\n<text text-anchor=\"middle\" x=\"868\" y=\"-151.8\" font-family=\"Times,serif\" font-size=\"14.00\">grad 2.0000</text>\n</g>\n<!-- 136211690314128+ -->\n<g id=\"node10\" class=\"node\">\n<title>136211690314128+</title>\n<ellipse fill=\"none\" stroke=\"black\" cx=\"1016\" cy=\"-127.5\" rx=\"27\" ry=\"18\"/>\n<text text-anchor=\"middle\" x=\"1016\" y=\"-123.8\" font-family=\"Times,serif\" font-size=\"14.00\">+</text>\n</g>\n<!-- 136211690316864&#45;&gt;136211690314128+ -->\n<g id=\"edge8\" class=\"edge\">\n<title>136211690316864&#45;&gt;136211690314128+</title>\n<path fill=\"none\" stroke=\"black\" d=\"M909.02,-142.52C934,-138.98 959.59,-135.36 979.37,-132.55\"/>\n<polygon fill=\"black\" stroke=\"black\" points=\"980.03,-135.99 989.43,-131.12 979.04,-129.06 980.03,-135.99\"/>\n</g>\n<!-- 136211690317920 -->\n<g id=\"node5\" class=\"node\">\n<title>136211690317920</title>\n<polygon fill=\"none\" stroke=\"black\" points=\"680,-82.5 680,-118.5 953,-118.5 953,-82.5 680,-82.5\"/>\n<text text-anchor=\"middle\" x=\"733\" y=\"-96.8\" font-family=\"Times,serif\" font-size=\"14.00\">x1*w1 + x2*w2</text>\n<polyline fill=\"none\" stroke=\"black\" points=\"786,-82.5 786,-118.5 \"/>\n<text text-anchor=\"middle\" x=\"828.5\" y=\"-96.8\" font-family=\"Times,serif\" font-size=\"14.00\">data &#45;6.0000</text>\n<polyline fill=\"none\" stroke=\"black\" points=\"871,-82.5 871,-118.5 \"/>\n<text text-anchor=\"middle\" x=\"912\" y=\"-96.8\" font-family=\"Times,serif\" font-size=\"14.00\">grad 2.0000</text>\n</g>\n<!-- 136211690317920&#45;&gt;136211690314128+ -->\n<g id=\"edge9\" class=\"edge\">\n<title>136211690317920&#45;&gt;136211690314128+</title>\n<path fill=\"none\" stroke=\"black\" d=\"M949.24,-118.51C960.12,-120 970.4,-121.4 979.45,-122.64\"/>\n<polygon fill=\"black\" stroke=\"black\" points=\"979.11,-126.13 989.49,-124.01 980.05,-119.19 979.11,-126.13\"/>\n</g>\n<!-- 136211690317920+&#45;&gt;136211690317920 -->\n<g id=\"edge2\" class=\"edge\">\n<title>136211690317920+&#45;&gt;136211690317920</title>\n<path fill=\"none\" stroke=\"black\" d=\"M644.23,-100.5C651.7,-100.5 660.41,-100.5 669.87,-100.5\"/>\n<polygon fill=\"black\" stroke=\"black\" points=\"669.98,-104 679.98,-100.5 669.98,-97 669.98,-104\"/>\n</g>\n<!-- 136211690319984 -->\n<g id=\"node7\" class=\"node\">\n<title>136211690319984</title>\n<polygon fill=\"none\" stroke=\"black\" points=\"326,-110.5 326,-146.5 554,-146.5 554,-110.5 326,-110.5\"/>\n<text text-anchor=\"middle\" x=\"356.5\" y=\"-124.8\" font-family=\"Times,serif\" font-size=\"14.00\">x1 * w1</text>\n<polyline fill=\"none\" stroke=\"black\" points=\"387,-110.5 387,-146.5 \"/>\n<text text-anchor=\"middle\" x=\"429.5\" y=\"-124.8\" font-family=\"Times,serif\" font-size=\"14.00\">data &#45;6.0000</text>\n<polyline fill=\"none\" stroke=\"black\" points=\"472,-110.5 472,-146.5 \"/>\n<text text-anchor=\"middle\" x=\"513\" y=\"-124.8\" font-family=\"Times,serif\" font-size=\"14.00\">grad 2.0000</text>\n</g>\n<!-- 136211690319984&#45;&gt;136211690317920+ -->\n<g id=\"edge13\" class=\"edge\">\n<title>136211690319984&#45;&gt;136211690317920+</title>\n<path fill=\"none\" stroke=\"black\" d=\"M553.81,-110.45C563.28,-108.93 572.32,-107.49 580.43,-106.19\"/>\n<polygon fill=\"black\" stroke=\"black\" points=\"581.19,-109.61 590.51,-104.58 580.08,-102.7 581.19,-109.61\"/>\n</g>\n<!-- 136211690319984* -->\n<g id=\"node8\" class=\"node\">\n<title>136211690319984*</title>\n<ellipse fill=\"none\" stroke=\"black\" cx=\"263\" cy=\"-128.5\" rx=\"27\" ry=\"18\"/>\n<text text-anchor=\"middle\" x=\"263\" y=\"-124.8\" font-family=\"Times,serif\" font-size=\"14.00\">*</text>\n</g>\n<!-- 136211690319984*&#45;&gt;136211690319984 -->\n<g id=\"edge3\" class=\"edge\">\n<title>136211690319984*&#45;&gt;136211690319984</title>\n<path fill=\"none\" stroke=\"black\" d=\"M290.2,-128.5C297.62,-128.5 306.23,-128.5 315.48,-128.5\"/>\n<polygon fill=\"black\" stroke=\"black\" points=\"315.76,-132 325.76,-128.5 315.76,-125 315.76,-132\"/>\n</g>\n<!-- 136211690314128 -->\n<g id=\"node9\" class=\"node\">\n<title>136211690314128</title>\n<polygon fill=\"none\" stroke=\"black\" points=\"1079,-109.5 1079,-145.5 1264,-145.5 1264,-109.5 1079,-109.5\"/>\n<text text-anchor=\"middle\" x=\"1090.5\" y=\"-123.8\" font-family=\"Times,serif\" font-size=\"14.00\">n</text>\n<polyline fill=\"none\" stroke=\"black\" points=\"1102,-109.5 1102,-145.5 \"/>\n<text text-anchor=\"middle\" x=\"1142\" y=\"-123.8\" font-family=\"Times,serif\" font-size=\"14.00\">data 0.8814</text>\n<polyline fill=\"none\" stroke=\"black\" points=\"1182,-109.5 1182,-145.5 \"/>\n<text text-anchor=\"middle\" x=\"1223\" y=\"-123.8\" font-family=\"Times,serif\" font-size=\"14.00\">grad 1.0000</text>\n</g>\n<!-- 136211690320272tanh -->\n<g id=\"node15\" class=\"node\">\n<title>136211690320272tanh</title>\n<ellipse fill=\"none\" stroke=\"black\" cx=\"1327\" cy=\"-127.5\" rx=\"27\" ry=\"18\"/>\n<text text-anchor=\"middle\" x=\"1327\" y=\"-123.8\" font-family=\"Times,serif\" font-size=\"14.00\">tanh</text>\n</g>\n<!-- 136211690314128&#45;&gt;136211690320272tanh -->\n<g id=\"edge12\" class=\"edge\">\n<title>136211690314128&#45;&gt;136211690320272tanh</title>\n<path fill=\"none\" stroke=\"black\" d=\"M1264.01,-127.5C1273.01,-127.5 1281.74,-127.5 1289.66,-127.5\"/>\n<polygon fill=\"black\" stroke=\"black\" points=\"1289.91,-131 1299.91,-127.5 1289.91,-124 1289.91,-131\"/>\n</g>\n<!-- 136211690314128+&#45;&gt;136211690314128 -->\n<g id=\"edge4\" class=\"edge\">\n<title>136211690314128+&#45;&gt;136211690314128</title>\n<path fill=\"none\" stroke=\"black\" d=\"M1043.04,-127.5C1050.58,-127.5 1059.3,-127.5 1068.57,-127.5\"/>\n<polygon fill=\"black\" stroke=\"black\" points=\"1068.81,-131 1078.81,-127.5 1068.81,-124 1068.81,-131\"/>\n</g>\n<!-- 136211690316480 -->\n<g id=\"node11\" class=\"node\">\n<title>136211690316480</title>\n<polygon fill=\"none\" stroke=\"black\" points=\"2,-165.5 2,-201.5 198,-201.5 198,-165.5 2,-165.5\"/>\n<text text-anchor=\"middle\" x=\"17\" y=\"-179.8\" font-family=\"Times,serif\" font-size=\"14.00\">x1</text>\n<polyline fill=\"none\" stroke=\"black\" points=\"32,-165.5 32,-201.5 \"/>\n<text text-anchor=\"middle\" x=\"72\" y=\"-179.8\" font-family=\"Times,serif\" font-size=\"14.00\">data 2.0000</text>\n<polyline fill=\"none\" stroke=\"black\" points=\"112,-165.5 112,-201.5 \"/>\n<text text-anchor=\"middle\" x=\"155\" y=\"-179.8\" font-family=\"Times,serif\" font-size=\"14.00\">grad &#45;2.0000</text>\n</g>\n<!-- 136211690316480&#45;&gt;136211690319984* -->\n<g id=\"edge10\" class=\"edge\">\n<title>136211690316480&#45;&gt;136211690319984*</title>\n<path fill=\"none\" stroke=\"black\" d=\"M172.53,-165.44C181.84,-162.67 191.2,-159.67 200,-156.5 210.53,-152.71 221.75,-147.9 231.72,-143.33\"/>\n<polygon fill=\"black\" stroke=\"black\" points=\"233.25,-146.48 240.82,-139.07 230.28,-140.14 233.25,-146.48\"/>\n</g>\n<!-- 136211690316528 -->\n<g id=\"node12\" class=\"node\">\n<title>136211690316528</title>\n<polygon fill=\"none\" stroke=\"black\" points=\"2.5,-0.5 2.5,-36.5 197.5,-36.5 197.5,-0.5 2.5,-0.5\"/>\n<text text-anchor=\"middle\" x=\"19\" y=\"-14.8\" font-family=\"Times,serif\" font-size=\"14.00\">w2</text>\n<polyline fill=\"none\" stroke=\"black\" points=\"35.5,-0.5 35.5,-36.5 \"/>\n<text text-anchor=\"middle\" x=\"75.5\" y=\"-14.8\" font-family=\"Times,serif\" font-size=\"14.00\">data 1.0000</text>\n<polyline fill=\"none\" stroke=\"black\" points=\"115.5,-0.5 115.5,-36.5 \"/>\n<text text-anchor=\"middle\" x=\"156.5\" y=\"-14.8\" font-family=\"Times,serif\" font-size=\"14.00\">grad 1.0000</text>\n</g>\n<!-- 136211690316528&#45;&gt;136211690318352* -->\n<g id=\"edge6\" class=\"edge\">\n<title>136211690316528&#45;&gt;136211690318352*</title>\n<path fill=\"none\" stroke=\"black\" d=\"M169.28,-36.5C179.65,-39.61 190.16,-42.98 200,-46.5 210.28,-50.17 221.28,-54.74 231.11,-59.07\"/>\n<polygon fill=\"black\" stroke=\"black\" points=\"229.93,-62.37 240.48,-63.27 232.79,-55.99 229.93,-62.37\"/>\n</g>\n<!-- 136211690316624 -->\n<g id=\"node13\" class=\"node\">\n<title>136211690316624</title>\n<polygon fill=\"none\" stroke=\"black\" points=\"0,-110.5 0,-146.5 200,-146.5 200,-110.5 0,-110.5\"/>\n<text text-anchor=\"middle\" x=\"16.5\" y=\"-124.8\" font-family=\"Times,serif\" font-size=\"14.00\">w1</text>\n<polyline fill=\"none\" stroke=\"black\" points=\"33,-110.5 33,-146.5 \"/>\n<text text-anchor=\"middle\" x=\"75.5\" y=\"-124.8\" font-family=\"Times,serif\" font-size=\"14.00\">data &#45;3.0000</text>\n<polyline fill=\"none\" stroke=\"black\" points=\"118,-110.5 118,-146.5 \"/>\n<text text-anchor=\"middle\" x=\"159\" y=\"-124.8\" font-family=\"Times,serif\" font-size=\"14.00\">grad 3.0000</text>\n</g>\n<!-- 136211690316624&#45;&gt;136211690319984* -->\n<g id=\"edge7\" class=\"edge\">\n<title>136211690316624&#45;&gt;136211690319984*</title>\n<path fill=\"none\" stroke=\"black\" d=\"M200.21,-128.5C209.2,-128.5 217.86,-128.5 225.7,-128.5\"/>\n<polygon fill=\"black\" stroke=\"black\" points=\"225.85,-132 235.85,-128.5 225.85,-125 225.85,-132\"/>\n</g>\n<!-- 136211690320272 -->\n<g id=\"node14\" class=\"node\">\n<title>136211690320272</title>\n<polygon fill=\"none\" stroke=\"black\" points=\"1390,-109.5 1390,-145.5 1575,-145.5 1575,-109.5 1390,-109.5\"/>\n<text text-anchor=\"middle\" x=\"1401.5\" y=\"-123.8\" font-family=\"Times,serif\" font-size=\"14.00\">o</text>\n<polyline fill=\"none\" stroke=\"black\" points=\"1413,-109.5 1413,-145.5 \"/>\n<text text-anchor=\"middle\" x=\"1453\" y=\"-123.8\" font-family=\"Times,serif\" font-size=\"14.00\">data 0.7071</text>\n<polyline fill=\"none\" stroke=\"black\" points=\"1493,-109.5 1493,-145.5 \"/>\n<text text-anchor=\"middle\" x=\"1534\" y=\"-123.8\" font-family=\"Times,serif\" font-size=\"14.00\">grad 1.0000</text>\n</g>\n<!-- 136211690320272tanh&#45;&gt;136211690320272 -->\n<g id=\"edge5\" class=\"edge\">\n<title>136211690320272tanh&#45;&gt;136211690320272</title>\n<path fill=\"none\" stroke=\"black\" d=\"M1354.04,-127.5C1361.58,-127.5 1370.3,-127.5 1379.57,-127.5\"/>\n<polygon fill=\"black\" stroke=\"black\" points=\"1379.81,-131 1389.81,-127.5 1379.81,-124 1379.81,-131\"/>\n</g>\n</g>\n</svg>\n",
            "text/plain": [
              "<graphviz.graphs.Digraph at 0x7be2416a5b70>"
            ]
          },
          "metadata": {},
          "execution_count": 83
        }
      ]
    }
  ],
  "metadata": {
    "kernelspec": {
      "display_name": "Python 3 (ipykernel)",
      "language": "python",
      "name": "python3"
    },
    "language_info": {
      "codemirror_mode": {
        "name": "ipython",
        "version": 3
      },
      "file_extension": ".py",
      "mimetype": "text/x-python",
      "name": "python",
      "nbconvert_exporter": "python",
      "pygments_lexer": "ipython3",
      "version": "3.10.12"
    },
    "colab": {
      "provenance": []
    }
  },
  "nbformat": 4,
  "nbformat_minor": 5
}